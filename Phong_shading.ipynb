{
  "nbformat": 4,
  "nbformat_minor": 0,
  "metadata": {
    "colab": {
      "provenance": []
    },
    "kernelspec": {
      "name": "python3",
      "display_name": "Python 3"
    },
    "language_info": {
      "name": "python"
    }
  },
  "cells": [
    {
      "cell_type": "code",
      "execution_count": null,
      "metadata": {
        "id": "co2G6IzXpWQH"
      },
      "outputs": [],
      "source": [
        "# Phong Shading\n",
        "import numpy as np\n",
        "import open3d as o3d\n",
        "import plotly.graph_objects as go\n",
        "\n",
        "mesh = o3d.io.read_triangle_mesh(\"Aneurism.obj\")\n",
        "if mesh.is_empty(): exit()\n",
        "\n",
        "if not mesh.has_vertex_normals(): mesh.compute_vertex_normals()\n",
        "if not mesh.has_triangle_normals(): mesh.compute_triangle_normals()\n",
        "\n",
        "triangles = np.asarray(mesh.triangles)\n",
        "vertices = np.asarray(mesh.vertices)\n",
        "# Calculate normal vectors\n",
        "normals = np.zeros(vertices.shape)\n",
        "for triangle in triangles:\n",
        "    v1 = vertices[triangle[0]]\n",
        "    v2 = vertices[triangle[1]]\n",
        "    v3 = vertices[triangle[2]]\n",
        "    normal = np.cross(v2 - v1, v3 - v1)\n",
        "    normals[triangle[0]] += normal\n",
        "    normals[triangle[1]] += normal\n",
        "    normals[triangle[2]] += normal\n",
        "normals = normals / np.linalg.norm(normals, axis=1)[:, None]\n",
        "\n",
        "# Define the reflect function\n",
        "def reflect(vector, normal):\n",
        "    return vector - 2.0 * np.dot(vector, normal) * normal\n",
        "\n",
        "# Apply Phong shading\n",
        "colors3 = np.ones(vertices.shape)\n",
        "ambient_color = np.array([0.1, 0.1, 0.1])\n",
        "diffuse_color = np.array([0.7, 0.7, 0.7])\n",
        "specular_color = np.array([1.0, 1.0, 1.0])\n",
        "light_position = np.array([0.0, 0.0, 1.0])\n",
        "view_position = np.array([0.0, 0.0, 0.0])\n",
        "shininess = 32.0\n",
        "for i, vertex in enumerate(vertices):\n",
        "    normal = normals[i]\n",
        "    light_direction = light_position - vertex\n",
        "    light_direction = light_direction / np.linalg.norm(light_direction)\n",
        "    view_direction = view_position - vertex\n",
        "    view_direction = view_direction / np.linalg.norm(view_direction)\n",
        "    ambient_term = ambient_color\n",
        "    diffuse_term = diffuse_color * np.maximum(np.dot(normal, light_direction), 0.0)\n",
        "    specular_term = specular_color * np.power(np.maximum(np.dot(reflect(light_direction, normal), view_direction), 0.0), shininess)\n",
        "    colors3[i] = ambient_term + diffuse_term + specular_term\n"
      ]
    },
    {
      "cell_type": "code",
      "source": [
        "def reflect(vector, normal):\n",
        "    return vector - 2.0 * np.dot(vector, normal) * normal\n",
        "\n",
        "# Draw the mesh with the callback function\n",
        "fig = go.Figure(data=[go.Mesh3d(x=vertices[:, 0], y=vertices[:, 1], z=vertices[:, 2], i=triangles[:, 0], j=triangles[:, 1], k=triangles[:, 2], vertexcolor=colors3)])\n",
        "fig.show()\n"
      ],
      "metadata": {
        "id": "UXnOAN1ypbk-"
      },
      "execution_count": null,
      "outputs": []
    },
    {
      "cell_type": "code",
      "source": [
        "# Surface Normals\n",
        "import cv2\n",
        "import numpy as np\n",
        "\n",
        "dcm_slice = dcmread(\"brain_010.dcm\")\n",
        "sampling_freq = 15\n",
        "\n",
        "img = np.array(dcm_slice.pixel_array)\n",
        "smoothed_img = ndimage.gaussian_filter(img, sigma=3)\n",
        "downsampled_img = smoothed_img[::sampling_freq,::sampling_freq]\n",
        "\n",
        "#################################################\n",
        "# Calculate the normals of the down-samled image\n",
        "#################################################\n",
        "\n",
        "#Calculate the surface normals\n",
        "sobelx = cv2.Sobel(downsampled_img,cv2.CV_64F,1,0,ksize=5)\n",
        "sobely = cv2.Sobel(downsampled_img,cv2.CV_64F,0,1,ksize=5)\n",
        "normal = np.dstack((-sobelx, -sobely, np.ones_like(downsampled_img)))\n",
        "normal = normal / np.sqrt(np.sum(normal ** 2, axis=2, keepdims=True))\n",
        "\n",
        "# Create a figure (window)\n",
        "fig = plt.figure(figsize=(20,10))\n",
        "\n",
        "ax1 = fig.add_subplot(1, 3, 1)\n",
        "ax1.set_title('Downsampled MRI Slice')\n",
        "ax1.imshow(downsampled_img, cmap='gray')\n",
        "\n",
        "ax2 = fig.add_subplot(1, 3, 2)\n",
        "ax2.set_title('Downsampled MRI Slice with normals')\n",
        "ax2.imshow(downsampled_img, cmap='gray')\n",
        "# add normals to the plot here, e.g. by using plt.quiver()\n",
        "plt.quiver(normal[:,:,0], normal[:,:,1], normal[:,:,2])\n",
        "\n",
        "plt.show()\n"
      ],
      "metadata": {
        "id": "l2z2Wz71pcud"
      },
      "execution_count": null,
      "outputs": []
    }
  ]
}